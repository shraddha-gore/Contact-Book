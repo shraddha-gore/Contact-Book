{
 "cells": [
  {
   "cell_type": "code",
   "execution_count": null,
   "id": "89258eae-d847-4f01-8bc7-f6213d03504c",
   "metadata": {},
   "outputs": [],
   "source": [
    "# Contact Book Implementation - TO DO"
   ]
  }
 ],
 "metadata": {
  "kernelspec": {
   "display_name": "anaconda-panel-2023.05-py310",
   "language": "python",
   "name": "conda-env-anaconda-panel-2023.05-py310-py"
  },
  "language_info": {
   "codemirror_mode": {
    "name": "ipython",
    "version": 3
   },
   "file_extension": ".py",
   "mimetype": "text/x-python",
   "name": "python",
   "nbconvert_exporter": "python",
   "pygments_lexer": "ipython3",
   "version": "3.11.5"
  }
 },
 "nbformat": 4,
 "nbformat_minor": 5
}
